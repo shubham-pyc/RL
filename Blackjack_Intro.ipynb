{
  "nbformat": 4,
  "nbformat_minor": 0,
  "metadata": {
    "colab": {
      "provenance": [],
      "collapsed_sections": [],
      "include_colab_link": true
    },
    "kernelspec": {
      "name": "python3",
      "display_name": "Python 3"
    },
    "language_info": {
      "name": "python"
    }
  },
  "cells": [
    {
      "cell_type": "markdown",
      "metadata": {
        "id": "view-in-github",
        "colab_type": "text"
      },
      "source": [
        "<a href=\"https://colab.research.google.com/github/shubham-pyc/RL/blob/main/Blackjack_Intro.ipynb\" target=\"_parent\"><img src=\"https://colab.research.google.com/assets/colab-badge.svg\" alt=\"Open In Colab\"/></a>"
      ]
    },
    {
      "cell_type": "markdown",
      "source": [
        "# Gym Environment\n",
        "\n",
        "OpenAI Gym is an open-source reinforcement learning package made for developing and comparing learning algorithms by providing a standard API for communication between learning algorithms and environments.\n",
        "\n",
        "Gym also includes many standard environments compliant with said API. Since it's release, most reinforcement learning environments conform to the standards created by this package.\n",
        "\n",
        "Gym is no longer maintained by OpenAI but is instead maintained by a single active user, but the community behind it is still large."
      ],
      "metadata": {
        "id": "N2iRbhhv1-7l"
      }
    },
    {
      "cell_type": "code",
      "source": [
        "import gym\n",
        "\n",
        "# https://github.com/openai/gym/blob/master/gym/envs/toy_text/blackjack.py\n",
        "environment = gym.make(\n",
        "    \"Blackjack-v1\",   # environment name\n",
        "    natural=True,     # flag to payout 1.5x on a \"natural\" blackjack win\n",
        "    new_step_api=True # avoids warnings and allows future compatibility\n",
        ")"
      ],
      "metadata": {
        "id": "nkD7AxdZ1fD8"
      },
      "execution_count": null,
      "outputs": []
    },
    {
      "cell_type": "markdown",
      "source": [
        "Retrieve the initial state by reseting the environment.\n",
        "\n",
        "The state is a 3-tuple of:\n",
        "\n",
        "- own-hand sum\n",
        "- dealer's face-up sum\n",
        "- usable ace"
      ],
      "metadata": {
        "id": "hLN0Od2c28Ok"
      }
    },
    {
      "cell_type": "code",
      "source": [
        "state = environment.reset()\n",
        "state"
      ],
      "metadata": {
        "colab": {
          "base_uri": "https://localhost:8080/"
        },
        "id": "melr-GE51sik",
        "outputId": "44309f31-eced-47cc-d816-8466828da897"
      },
      "execution_count": null,
      "outputs": [
        {
          "output_type": "execute_result",
          "data": {
            "text/plain": [
              "(13, 6, False)"
            ]
          },
          "metadata": {},
          "execution_count": 2
        }
      ]
    },
    {
      "cell_type": "markdown",
      "source": [
        "Perform an action and retrieve the next state.\n",
        "\n",
        "The next state is a tuple of:\n",
        "\n",
        "- board state (hand_sum, dealer_sum, usable_ace)\n",
        "- reward\n",
        "- done?\n",
        "- info [not needed]\n",
        "- debug [not needed]"
      ],
      "metadata": {
        "id": "gTumDTyu3Czk"
      }
    },
    {
      "cell_type": "code",
      "source": [
        "HIT = 1\n",
        "STAND = 0\n",
        "\n",
        "# google colab gives warning for no reason; ignore it\n",
        "next_state, reward, done, _, _ = environment.step(HIT)"
      ],
      "metadata": {
        "id": "L4sEf73n24bs"
      },
      "execution_count": null,
      "outputs": []
    },
    {
      "cell_type": "markdown",
      "source": [
        "Did we go over 21?"
      ],
      "metadata": {
        "id": "jr2BbEzX4Nsd"
      }
    },
    {
      "cell_type": "code",
      "source": [
        "next_state"
      ],
      "metadata": {
        "colab": {
          "base_uri": "https://localhost:8080/"
        },
        "id": "XGnytMmH3XOk",
        "outputId": "69bde655-32aa-4794-e1b3-b0702fbb36bd"
      },
      "execution_count": null,
      "outputs": [
        {
          "output_type": "execute_result",
          "data": {
            "text/plain": [
              "(17, 6, False)"
            ]
          },
          "metadata": {},
          "execution_count": 4
        }
      ]
    },
    {
      "cell_type": "markdown",
      "source": [
        "No, so what is our reward?"
      ],
      "metadata": {
        "id": "I1hLzOt44Qcu"
      }
    },
    {
      "cell_type": "code",
      "source": [
        "reward"
      ],
      "metadata": {
        "colab": {
          "base_uri": "https://localhost:8080/"
        },
        "id": "AgzImzG14L1N",
        "outputId": "53066355-179a-487e-ac7c-a27f0bee871e"
      },
      "execution_count": null,
      "outputs": [
        {
          "output_type": "execute_result",
          "data": {
            "text/plain": [
              "0.0"
            ]
          },
          "metadata": {},
          "execution_count": 5
        }
      ]
    },
    {
      "cell_type": "markdown",
      "source": [
        "We have no reward since we have not finished the game. So let's STAND."
      ],
      "metadata": {
        "id": "eZwUjw7s4TPH"
      }
    },
    {
      "cell_type": "code",
      "source": [
        "next_state, reward, done, _, _ = environment.step(STAND)"
      ],
      "metadata": {
        "id": "rP7lP5f_4STk"
      },
      "execution_count": null,
      "outputs": []
    },
    {
      "cell_type": "markdown",
      "source": [
        "Did we win?"
      ],
      "metadata": {
        "id": "euoh3vWp4Yf8"
      }
    },
    {
      "cell_type": "code",
      "source": [
        "reward"
      ],
      "metadata": {
        "colab": {
          "base_uri": "https://localhost:8080/"
        },
        "id": "f8kfPNAK4Z28",
        "outputId": "80c48d39-d10a-4efc-974d-d1ba334393f8"
      },
      "execution_count": null,
      "outputs": [
        {
          "output_type": "execute_result",
          "data": {
            "text/plain": [
              "1.0"
            ]
          },
          "metadata": {},
          "execution_count": 7
        }
      ]
    },
    {
      "cell_type": "markdown",
      "source": [
        "It looks like the dealer busted so we won! That means it was probably good that we HIT than STAND.\n",
        "\n",
        "The `done` flag also will be set to `True` as the game is done."
      ],
      "metadata": {
        "id": "ZyYUMSjY4gCL"
      }
    },
    {
      "cell_type": "code",
      "source": [
        "done"
      ],
      "metadata": {
        "colab": {
          "base_uri": "https://localhost:8080/"
        },
        "id": "ZpmxmBXv4vBg",
        "outputId": "0b0e9ac6-1f51-4524-85bd-2335a636923e"
      },
      "execution_count": null,
      "outputs": [
        {
          "output_type": "execute_result",
          "data": {
            "text/plain": [
              "True"
            ]
          },
          "metadata": {},
          "execution_count": 8
        }
      ]
    },
    {
      "cell_type": "markdown",
      "source": [
        "To play the game again, we simply repeat the process by starting with `environment.reset()`"
      ],
      "metadata": {
        "id": "1zGRjSNE4oI4"
      }
    },
    {
      "cell_type": "code",
      "source": [
        "state = environment.reset()\n",
        "state"
      ],
      "metadata": {
        "colab": {
          "base_uri": "https://localhost:8080/"
        },
        "id": "3Fkqi7n-41cc",
        "outputId": "76af8a87-99cb-4dc1-f677-2418bd96398b"
      },
      "execution_count": null,
      "outputs": [
        {
          "output_type": "execute_result",
          "data": {
            "text/plain": [
              "(20, 10, False)"
            ]
          },
          "metadata": {},
          "execution_count": 9
        }
      ]
    },
    {
      "cell_type": "markdown",
      "source": [
        "This time we probably want to just STAND."
      ],
      "metadata": {
        "id": "CHJVVCLE5S5D"
      }
    },
    {
      "cell_type": "code",
      "source": [
        "next_state, reward, done, _, _ = environment.step(STAND)\n",
        "reward"
      ],
      "metadata": {
        "colab": {
          "base_uri": "https://localhost:8080/"
        },
        "id": "o127vcGm5U5E",
        "outputId": "81cac7a2-f381-4c87-a8c9-004d7f6215a9"
      },
      "execution_count": null,
      "outputs": [
        {
          "output_type": "execute_result",
          "data": {
            "text/plain": [
              "-1.0"
            ]
          },
          "metadata": {},
          "execution_count": 10
        }
      ]
    },
    {
      "cell_type": "markdown",
      "source": [
        "The dealer won which means they hit a blackjack. Too bad for us 😐"
      ],
      "metadata": {
        "id": "LmtcwsZU5bJS"
      }
    }
  ]
}