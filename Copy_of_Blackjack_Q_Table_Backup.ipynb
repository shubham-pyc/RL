{
  "nbformat": 4,
  "nbformat_minor": 0,
  "metadata": {
    "colab": {
      "provenance": [],
      "collapsed_sections": [],
      "include_colab_link": true
    },
    "kernelspec": {
      "name": "python3",
      "display_name": "Python 3"
    },
    "language_info": {
      "name": "python"
    }
  },
  "cells": [
    {
      "cell_type": "markdown",
      "metadata": {
        "id": "view-in-github",
        "colab_type": "text"
      },
      "source": [
        "<a href=\"https://colab.research.google.com/github/shubham-pyc/RL/blob/main/Copy_of_Blackjack_Q_Table_Backup.ipynb\" target=\"_parent\"><img src=\"https://colab.research.google.com/assets/colab-badge.svg\" alt=\"Open In Colab\"/></a>"
      ]
    },
    {
      "cell_type": "markdown",
      "source": [
        "# Imports"
      ],
      "metadata": {
        "id": "MaqZJU481m6g"
      }
    },
    {
      "cell_type": "code",
      "source": [
        "import numpy as np\n",
        "import matplotlib.pyplot as plt\n",
        "import seaborn as sns\n",
        "\n",
        "import gym"
      ],
      "metadata": {
        "id": "-38XmbiP1miM"
      },
      "execution_count": null,
      "outputs": []
    },
    {
      "cell_type": "markdown",
      "source": [
        "# Gym Environment"
      ],
      "metadata": {
        "id": "N2iRbhhv1-7l"
      }
    },
    {
      "cell_type": "code",
      "source": [
        "# https://github.com/openai/gym/blob/master/gym/envs/toy_text/blackjack.py\n",
        "environment = gym.make(\n",
        "    \"Blackjack-v1\",   # environment name\n",
        "    natural=True,     # flag to payout 1.5x on a \"natural\" blackjack win\n",
        "    new_step_api=True # avoids warnings and allows future compatibility\n",
        ")"
      ],
      "metadata": {
        "id": "nkD7AxdZ1fD8"
      },
      "execution_count": null,
      "outputs": []
    },
    {
      "cell_type": "markdown",
      "source": [
        "# Agent"
      ],
      "metadata": {
        "id": "5LQZQ8RT1xVV"
      }
    },
    {
      "cell_type": "code",
      "source": [
        "class Agent(object):\n",
        "\n",
        "    def __init__(self):\n",
        "        self.quality_table = np.ones(shape=(32, 11, 2, 2))*5.0\n",
        "\n",
        "    def act(self, observation):\n",
        "        observation = self._clean_state(observation)\n",
        "        return np.argmax(self.quality_table[observation])\n",
        "\n",
        "    def act_greedy(self, observation):\n",
        "        observation = self._clean_state(observation)\n",
        "        return np.argmax(self.quality_table[observation])\n",
        "\n",
        "    def estimateQ(self, observation):\n",
        "        observation = self._clean_state(observation)\n",
        "        return np.max(self.quality_table[observation])\n",
        "\n",
        "    def update(self, state, action, target):\n",
        "        state = self._clean_state(state)\n",
        "        self.quality_table[state + (action,)] += (target - self.quality_table[state + (action,)]) *0.0002\n",
        "\n",
        "    # cast (10, 5, True) -> np.array([10, 5, 1]) -> (10, 5, 1)\n",
        "    def _clean_state(self, observation):\n",
        "        return tuple(np.array(observation))"
      ],
      "metadata": {
        "id": "WnXCeFYI1w4l"
      },
      "execution_count": null,
      "outputs": []
    },
    {
      "cell_type": "markdown",
      "source": [
        "# Use Monte Carlo control to learn a near-optimal policy"
      ],
      "metadata": {
        "id": "UV5INbTf3Wti"
      }
    },
    {
      "cell_type": "code",
      "source": [
        "# \n",
        "agent = Agent()\n",
        "downSample = 50_000\n",
        "winRate_down = [] #record the win-rate every downSample episodes\n",
        "results = []\n",
        "\n",
        "for iteration in range(1_000_000): #20_000_000):\n",
        "    state = environment.reset()\n",
        "    done = False\n",
        "    states, actions, rewards = [], [], []\n",
        "    # Create an episode by interacting with the environment\n",
        "    while not done:\n",
        "        action = agent.act(state)\n",
        "        next_state, reward, done, _, _ = environment.step(action)\n",
        "\n",
        "        states.append(state)\n",
        "        actions.append(action)\n",
        "        rewards.append(reward)\n",
        "        state = next_state\n",
        "    # work back from the last state accumulating rewards\n",
        "    cumulative_reward = 0.0\n",
        "    for (state, action, reward) in list(zip(states, actions, rewards))[::-1]:\n",
        "        cumulative_reward += reward\n",
        "        agent.update(state, action, cumulative_reward)\n",
        "    # Metric logging\n",
        "    results.append(0.0 if cumulative_reward < 0.0 else 1.0)\n",
        "    if iteration > 0 and iteration%downSample == 0:\n",
        "      winRate_down.append(sum(results)/downSample)\n",
        "      results = []\n",
        "      print(\"%8d win rate = %4.3f\" % (iteration, winRate_down[-1]))\n"
      ],
      "metadata": {
        "id": "iaKs5TuT2YzI",
        "colab": {
          "base_uri": "https://localhost:8080/"
        },
        "outputId": "cc28feea-e200-4b13-a47a-fc8b3725acd0"
      },
      "execution_count": null,
      "outputs": [
        {
          "output_type": "stream",
          "name": "stdout",
          "text": [
            "   50000 win rate = 0.421\n",
            "  100000 win rate = 0.425\n",
            "  150000 win rate = 0.424\n",
            "  200000 win rate = 0.427\n",
            "  250000 win rate = 0.430\n",
            "  300000 win rate = 0.433\n",
            "  350000 win rate = 0.436\n",
            "  400000 win rate = 0.436\n",
            "  450000 win rate = 0.441\n",
            "  500000 win rate = 0.439\n",
            "  550000 win rate = 0.448\n",
            "  600000 win rate = 0.444\n",
            "  650000 win rate = 0.447\n",
            "  700000 win rate = 0.448\n",
            "  750000 win rate = 0.452\n",
            "  800000 win rate = 0.454\n"
          ]
        }
      ]
    },
    {
      "cell_type": "markdown",
      "source": [
        "# Metric printing and plotting"
      ],
      "metadata": {
        "id": "yraOE3t64Vmg"
      }
    },
    {
      "cell_type": "code",
      "source": [
        "plt.plot([x for x in range(len(winRate_down))], winRate_down)\n",
        "\n",
        "plt.title(\"Monte Carlo Control Finds near-Optimal Policy\")\n",
        "plt.title(\"Current policy win-rate vs. learning episodes\")\n",
        "plt.xlabel(\"Episodes * 50,000\")\n",
        "plt.ylabel(\"Current win rate\")\n",
        "plt.ylim([0.33, 0.525])\n",
        "plt.show()"
      ],
      "metadata": {
        "colab": {
          "base_uri": "https://localhost:8080/",
          "height": 235
        },
        "id": "TcpGT1I-DSil",
        "outputId": "3ecbdfeb-c6e0-446d-84f2-f4c8a934f0e1"
      },
      "execution_count": null,
      "outputs": [
        {
          "output_type": "error",
          "ename": "NameError",
          "evalue": "ignored",
          "traceback": [
            "\u001b[0;31m---------------------------------------------------------------------------\u001b[0m",
            "\u001b[0;31mNameError\u001b[0m                                 Traceback (most recent call last)",
            "\u001b[0;32m<ipython-input-1-cb694c112586>\u001b[0m in \u001b[0;36m<module>\u001b[0;34m\u001b[0m\n\u001b[0;32m----> 1\u001b[0;31m \u001b[0mplt\u001b[0m\u001b[0;34m.\u001b[0m\u001b[0mplot\u001b[0m\u001b[0;34m(\u001b[0m\u001b[0;34m[\u001b[0m\u001b[0mx\u001b[0m \u001b[0;32mfor\u001b[0m \u001b[0mx\u001b[0m \u001b[0;32min\u001b[0m \u001b[0mrange\u001b[0m\u001b[0;34m(\u001b[0m\u001b[0mlen\u001b[0m\u001b[0;34m(\u001b[0m\u001b[0mwinRate_down\u001b[0m\u001b[0;34m)\u001b[0m\u001b[0;34m)\u001b[0m\u001b[0;34m]\u001b[0m\u001b[0;34m,\u001b[0m \u001b[0mwinRate_down\u001b[0m\u001b[0;34m)\u001b[0m\u001b[0;34m\u001b[0m\u001b[0;34m\u001b[0m\u001b[0m\n\u001b[0m\u001b[1;32m      2\u001b[0m \u001b[0;34m\u001b[0m\u001b[0m\n\u001b[1;32m      3\u001b[0m \u001b[0mplt\u001b[0m\u001b[0;34m.\u001b[0m\u001b[0mtitle\u001b[0m\u001b[0;34m(\u001b[0m\u001b[0;34m\"Monte Carlo Control Finds near-Optimal Policy\"\u001b[0m\u001b[0;34m)\u001b[0m\u001b[0;34m\u001b[0m\u001b[0;34m\u001b[0m\u001b[0m\n\u001b[1;32m      4\u001b[0m \u001b[0mplt\u001b[0m\u001b[0;34m.\u001b[0m\u001b[0mtitle\u001b[0m\u001b[0;34m(\u001b[0m\u001b[0;34m\"Current policy win-rate vs. learning episodes\"\u001b[0m\u001b[0;34m)\u001b[0m\u001b[0;34m\u001b[0m\u001b[0;34m\u001b[0m\u001b[0m\n\u001b[1;32m      5\u001b[0m \u001b[0mplt\u001b[0m\u001b[0;34m.\u001b[0m\u001b[0mxlabel\u001b[0m\u001b[0;34m(\u001b[0m\u001b[0;34m\"Episodes * 50,000\"\u001b[0m\u001b[0;34m)\u001b[0m\u001b[0;34m\u001b[0m\u001b[0;34m\u001b[0m\u001b[0m\n",
            "\u001b[0;31mNameError\u001b[0m: name 'plt' is not defined"
          ]
        }
      ]
    },
    {
      "cell_type": "code",
      "source": [
        "sns.heatmap(\n",
        "    data = np.argmax(agent.quality_table[12:22, 1:, 0], axis=2),\n",
        "    cbar = False,\n",
        "    annot = True,\n",
        "    xticklabels = np.arange(1, 11),\n",
        "    yticklabels = np.arange(12, 22)\n",
        ")\n",
        "plt.title(\"No usable ace | 0 - stand, 1 - hit\")\n",
        "plt.xlabel(\"Dealer's Hand\")\n",
        "plt.ylabel(\"Our Hand\")\n",
        "plt.show()\n",
        "\n",
        "sns.heatmap(\n",
        "    data = np.argmax(agent.quality_table[12:22, 1:, 1], axis=2),\n",
        "    annot = True,\n",
        "    cbar = False,\n",
        "    xticklabels = np.arange(1, 11),\n",
        "    yticklabels = np.arange(12, 22)\n",
        ")\n",
        "plt.title(\"Usable ace | 0 - stand, 1 - hit\")\n",
        "plt.xlabel(\"Dealer's Hand\")\n",
        "plt.ylabel(\"Our Hand\")\n",
        "plt.show()"
      ],
      "metadata": {
        "colab": {
          "base_uri": "https://localhost:8080/",
          "height": 573
        },
        "id": "GzRy7_EYFUkq",
        "outputId": "598cb671-b986-4190-d9a1-9836c909a8c4"
      },
      "execution_count": null,
      "outputs": [
        {
          "output_type": "display_data",
          "data": {
            "text/plain": [
              "<Figure size 432x288 with 1 Axes>"
            ],
            "image/png": "[encoded data removed]"
          },
          "metadata": {
            "needs_background": "light"
          }
        },
        {
          "output_type": "display_data",
          "data": {
            "text/plain": [
              "<Figure size 432x288 with 1 Axes>"
            ],
            "image/png": "[encoded data removed]"
          },
          "metadata": {
            "needs_background": "light"
          }
        }
      ]
    }
  ]
}